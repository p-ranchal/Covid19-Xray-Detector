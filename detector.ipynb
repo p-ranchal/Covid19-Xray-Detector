{
  "nbformat": 4,
  "nbformat_minor": 0,
  "metadata": {
    "colab": {
      "provenance": [],
      "machine_shape": "hm",
      "gpuType": "V100",
      "authorship_tag": "ABX9TyObSW7KJuJyC8uHE2/ulxq/",
      "include_colab_link": true
    },
    "kernelspec": {
      "name": "python3",
      "display_name": "Python 3"
    },
    "language_info": {
      "name": "python"
    },
    "accelerator": "GPU"
  },
  "cells": [
    {
      "cell_type": "markdown",
      "metadata": {
        "id": "view-in-github",
        "colab_type": "text"
      },
      "source": [
        "<a href=\"https://colab.research.google.com/github/p-ranchal/Covid19-Xray-Detector/blob/main/detector.ipynb\" target=\"_parent\"><img src=\"https://colab.research.google.com/assets/colab-badge.svg\" alt=\"Open In Colab\"/></a>"
      ]
    },
    {
      "cell_type": "code",
      "execution_count": 19,
      "metadata": {
        "id": "oT7o2nKYzT73"
      },
      "outputs": [],
      "source": [
        "import os\n",
        "from tensorflow.keras.preprocessing import image\n",
        "from tensorflow.keras.layers import Conv2D, MaxPooling2D, Dropout, Flatten, Dense\n",
        "from tensorflow.keras.models import Sequential"
      ]
    },
    {
      "cell_type": "code",
      "source": [
        "if not os.path.exists('Covid19-Xray-Detector'):\n",
        "  !git clone https://github.com/p-ranchal/Covid19-Xray-Detector.git"
      ],
      "metadata": {
        "id": "9_CnSTKPzm0D"
      },
      "execution_count": 20,
      "outputs": []
    },
    {
      "cell_type": "markdown",
      "source": [
        "## Create Model Architecture"
      ],
      "metadata": {
        "id": "09pqB69t1y9F"
      }
    },
    {
      "cell_type": "code",
      "source": [
        "model = Sequential()\n",
        "\n",
        "model.add(Conv2D(filters=32, kernel_size=(3, 3), activation='relu', input_shape=(224, 224, 3)))\n",
        "model.add(Conv2D(filters=64, kernel_size=(3, 3), activation='relu'))\n",
        "model.add(MaxPooling2D(pool_size=(2, 2)))\n",
        "model.add(Dropout(0.25))\n",
        "model.add(Conv2D(filters=128, kernel_size=(3, 3), activation='relu'))\n",
        "model.add(MaxPooling2D(pool_size=(2, 2)))\n",
        "model.add(Dropout(rate=0.25))\n",
        "model.add(Flatten())\n",
        "model.add(Dense(units=64, activation='relu'))\n",
        "model.add(Dropout(rate=0.5))\n",
        "model.add(Dense(units=1, activation='sigmoid'))\n",
        "\n",
        "model.compile(loss='binary_crossentropy', optimizer='adam', metrics=['accuracy'])\n",
        "model.summary()"
      ],
      "metadata": {
        "id": "yUxv2CcLzqnO",
        "colab": {
          "base_uri": "https://localhost:8080/"
        },
        "outputId": "0e139ae3-c91d-4d23-df3c-c3bc9c1228b1"
      },
      "execution_count": 21,
      "outputs": [
        {
          "output_type": "stream",
          "name": "stdout",
          "text": [
            "Model: \"sequential_3\"\n",
            "_________________________________________________________________\n",
            " Layer (type)                Output Shape              Param #   \n",
            "=================================================================\n",
            " conv2d_9 (Conv2D)           (None, 222, 222, 32)      896       \n",
            "                                                                 \n",
            " conv2d_10 (Conv2D)          (None, 220, 220, 64)      18496     \n",
            "                                                                 \n",
            " max_pooling2d_6 (MaxPoolin  (None, 110, 110, 64)      0         \n",
            " g2D)                                                            \n",
            "                                                                 \n",
            " dropout_9 (Dropout)         (None, 110, 110, 64)      0         \n",
            "                                                                 \n",
            " conv2d_11 (Conv2D)          (None, 108, 108, 128)     73856     \n",
            "                                                                 \n",
            " max_pooling2d_7 (MaxPoolin  (None, 54, 54, 128)       0         \n",
            " g2D)                                                            \n",
            "                                                                 \n",
            " dropout_10 (Dropout)        (None, 54, 54, 128)       0         \n",
            "                                                                 \n",
            " flatten_3 (Flatten)         (None, 373248)            0         \n",
            "                                                                 \n",
            " dense_6 (Dense)             (None, 64)                23887936  \n",
            "                                                                 \n",
            " dropout_11 (Dropout)        (None, 64)                0         \n",
            "                                                                 \n",
            " dense_7 (Dense)             (None, 1)                 65        \n",
            "                                                                 \n",
            "=================================================================\n",
            "Total params: 23981249 (91.48 MB)\n",
            "Trainable params: 23981249 (91.48 MB)\n",
            "Non-trainable params: 0 (0.00 Byte)\n",
            "_________________________________________________________________\n"
          ]
        }
      ]
    },
    {
      "cell_type": "markdown",
      "source": [
        "# Processing Images"
      ],
      "metadata": {
        "id": "NzfQHh8i6nXa"
      }
    },
    {
      "cell_type": "code",
      "source": [
        "train_datagen = image.ImageDataGenerator(rescale=1./255, shear_range=0.2, zoom_range=0.2, horizontal_flip=True)\n",
        "test_datagen = image.ImageDataGenerator(rescale = 1./255)\n",
        "\n",
        "print('Created the Data Generator Objects.')"
      ],
      "metadata": {
        "colab": {
          "base_uri": "https://localhost:8080/"
        },
        "id": "W5dgfsfg40lj",
        "outputId": "bfc5047b-142a-4b11-c652-08be8fc01d0a"
      },
      "execution_count": 22,
      "outputs": [
        {
          "output_type": "stream",
          "name": "stdout",
          "text": [
            "Created the Data Generator Objects.\n"
          ]
        }
      ]
    },
    {
      "cell_type": "markdown",
      "source": [
        "# Load Dataset"
      ],
      "metadata": {
        "id": "GlA1QmmH65DC"
      }
    },
    {
      "cell_type": "code",
      "source": [
        "train_generator = train_datagen.flow_from_directory('Covid19-Xray-Detector/CovidDataset/Train', target_size=(224, 224), batch_size=32, class_mode=\"binary\")\n",
        "val_generator = test_datagen.flow_from_directory('Covid19-Xray-Detector/CovidDataset/Val', target_size=(224, 224), batch_size=32, class_mode=\"binary\")"
      ],
      "metadata": {
        "colab": {
          "base_uri": "https://localhost:8080/"
        },
        "id": "kg9JJnwg64K9",
        "outputId": "f71605a2-9964-4041-c1d3-8cbd7aa99b05"
      },
      "execution_count": 23,
      "outputs": [
        {
          "output_type": "stream",
          "name": "stdout",
          "text": [
            "Found 224 images belonging to 2 classes.\n",
            "Found 60 images belonging to 2 classes.\n"
          ]
        }
      ]
    },
    {
      "cell_type": "code",
      "source": [
        "hist = model.fit(train_generator, epochs=6, validation_data=val_generator, validation_steps=2)"
      ],
      "metadata": {
        "colab": {
          "base_uri": "https://localhost:8080/"
        },
        "id": "eStySTte7BW8",
        "outputId": "74d9f2d8-0779-484f-af5e-c9a8796720fd"
      },
      "execution_count": 24,
      "outputs": [
        {
          "output_type": "stream",
          "name": "stdout",
          "text": [
            "Epoch 1/6\n",
            "7/7 [==============================] - 9s 1s/step - loss: 3.0516 - accuracy: 0.5134 - val_loss: 0.6894 - val_accuracy: 0.5000\n",
            "Epoch 2/6\n",
            "7/7 [==============================] - 7s 1s/step - loss: 0.6137 - accuracy: 0.6875 - val_loss: 0.5513 - val_accuracy: 0.8167\n",
            "Epoch 3/6\n",
            "7/7 [==============================] - 7s 1s/step - loss: 0.4320 - accuracy: 0.8259 - val_loss: 0.3199 - val_accuracy: 0.9333\n",
            "Epoch 4/6\n",
            "7/7 [==============================] - 7s 1s/step - loss: 0.3421 - accuracy: 0.8482 - val_loss: 0.2231 - val_accuracy: 0.9667\n",
            "Epoch 5/6\n",
            "7/7 [==============================] - 7s 1s/step - loss: 0.3481 - accuracy: 0.8750 - val_loss: 0.2746 - val_accuracy: 0.9667\n",
            "Epoch 6/6\n",
            "7/7 [==============================] - 7s 1s/step - loss: 0.2782 - accuracy: 0.9107 - val_loss: 0.1529 - val_accuracy: 0.9667\n"
          ]
        }
      ]
    },
    {
      "cell_type": "code",
      "source": [],
      "metadata": {
        "id": "mzQCgtjk7koc"
      },
      "execution_count": 18,
      "outputs": []
    }
  ]
}